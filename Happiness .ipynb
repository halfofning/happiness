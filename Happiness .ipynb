{
 "cells": [
  {
   "cell_type": "code",
   "execution_count": 2,
   "metadata": {},
   "outputs": [],
   "source": [
    "#Importing libraries for data analysis\n",
    "import numpy as np\n",
    "import pandas as pd\n",
    "from sklearn.cross_validation import train_test_split"
   ]
  },
  {
   "cell_type": "code",
   "execution_count": 3,
   "metadata": {},
   "outputs": [],
   "source": [
    "#Importing libraries for visualization\n",
    "import seaborn as sns\n",
    "import matplotlib.pyplot as plt"
   ]
  },
  {
   "cell_type": "code",
   "execution_count": 12,
   "metadata": {
    "scrolled": true
   },
   "outputs": [],
   "source": [
    "#Importing the datasets\n",
    "#2015\n",
    "dataset2015 = pd.read_csv('dataset/2015.csv')\n",
    "X2015 = dataset2015.iloc[:, 7:13].values\n",
    "y2015 = dataset2015.iloc[:, 3].values\n",
    "\n",
    "#2016\n",
    "dataset2016 = pd.read_csv('dataset/2016.csv')\n",
    "X2016 = dataset2016.iloc[:, 7:13].values\n",
    "y2016 = dataset2016.iloc[:, 3].values\n",
    "\n",
    "#2017\n",
    "dataset2017 = pd.read_csv('dataset/2017.csv')\n",
    "X2017 = dataset2017.iloc[:, 7:13].values\n",
    "y2017 = dataset2017.iloc[:, 3].values"
   ]
  },
  {
   "cell_type": "code",
   "execution_count": null,
   "metadata": {},
   "outputs": [],
   "source": [
    "#Splitting the dataset into the Training set and Test set\n",
    "X2015_train, X2015_test, y2015_train, y2015_test = train_test_split(X2015, y2015, test_size = 0.2, random_state = 0)\n",
    "X2016_train, X2016_test, y2016_train, y2016_test = train_test_split(X2016, y2016, test_size = 0.2, random_state = 0)\n",
    "X2017_train, X2017_test, y2017_train, y2017_test = train_test_split(X2017, y2017, test_size = 0.2, random_state = 0)\n"
   ]
  }
 ],
 "metadata": {
  "kernelspec": {
   "display_name": "Python 3",
   "language": "python",
   "name": "python3"
  },
  "language_info": {
   "codemirror_mode": {
    "name": "ipython",
    "version": 3
   },
   "file_extension": ".py",
   "mimetype": "text/x-python",
   "name": "python",
   "nbconvert_exporter": "python",
   "pygments_lexer": "ipython3",
   "version": "3.7.0"
  }
 },
 "nbformat": 4,
 "nbformat_minor": 2
}
